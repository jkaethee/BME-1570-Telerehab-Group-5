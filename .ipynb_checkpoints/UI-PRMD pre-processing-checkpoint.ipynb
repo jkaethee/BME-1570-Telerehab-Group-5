{
 "cells": [
  {
   "cell_type": "code",
   "execution_count": 1,
   "id": "5357a720",
   "metadata": {},
   "outputs": [],
   "source": [
    "import numpy as np\n",
    "from numpy import genfromtxt\n",
    "from pathlib import Path\n",
    "import math\n",
    "from scipy.signal import savgol_filter"
   ]
  },
  {
   "cell_type": "code",
   "execution_count": 2,
   "id": "2829c54e",
   "metadata": {},
   "outputs": [],
   "source": [
    "#  Functions\n",
    "\n",
    "def eulers_2_rot_matrix(x):\n",
    "    \"\"\"\n",
    "    EULER_2_ROT_MATRIX transforms a set of euler angles into a rotation  matrix \n",
    "    input vector of euler angles \n",
    "    [gamma_x, beta_y, alpha_z]  are ZYX Eulers angles in radians\n",
    "    \"\"\"\n",
    "    gamma_x=x[0];beta_y=x[1];alpha_z=x[2];\n",
    "    R = rotz(alpha_z) * roty(beta_y) * rotx(gamma_x);\n",
    "    return R\n",
    "\n",
    "def rotx(t):\n",
    "    # ROTX Rotation about X axis\n",
    "    ct = math.cos(t);\n",
    "    st = math.sin(t);\n",
    "    r =  np.matrix([[1,\t0,\t0],\n",
    "                    [0,\tct,\t-st],\n",
    "                    [0,\tst,\tct]]);\n",
    "    return r\n",
    "\n",
    "def roty(t):\n",
    "    # ROTY Rotation about Y axis\n",
    "    ct = math.cos(t);\n",
    "    st = math.sin(t);\n",
    "    r =  np.matrix([[ct,\t0,\tst],\n",
    "                    [0,\t1,\t0],\n",
    "                    [-st\t,0,\tct]]);\n",
    "    return r\n",
    "\n",
    "def rotz(t):\n",
    "    # ROTZ Rotation about Z axis\n",
    "\tct = math.cos(t);\n",
    "\tst = math.sin(t);\n",
    "\tr = np.matrix([[ct,\t-st,\t0],\n",
    "                   [st,\tct,\t0],\n",
    "                   [0,\t0,\t1]]);\n",
    "    \n"
   ]
  },
  {
   "cell_type": "code",
   "execution_count": 8,
   "id": "61dc4be1",
   "metadata": {},
   "outputs": [],
   "source": [
    "path_to_correct_pos = Path(\"Segmented Movements/Kinect/Positions\")\n",
    "path_to_incorrect_pos = Path(\"Incorrect Segmented Movements/Kinect/Positions\")\n",
    "path_to_correct_filtered = Path(\"Filtered Correct Movements\")\n",
    "path_to_correct_filtered.mkdir(exist_ok=True)\n",
    "\n",
    "for file_path in path_to_correct_pos.iterdir():\n",
    "    if file_path.is_file():\n",
    "        readpos = genfromtxt(file_path, delimiter=',')        \n",
    "        # Work through 3 columns at a time (one joint)\n",
    "        for i in range(0, readpos.shape[1], 3):\n",
    "            joint_coordinate_slice = readpos[:, i:i+3]\n",
    "            filtered_joint = joint_coordinate_slice.copy()\n",
    "            \n",
    "            # Use Savitzky-Golay Smoothing filter on each dimension separately\n",
    "            # Window length = 5\n",
    "            # Polynomial order = 2\n",
    "            for j in range(0, 3):\n",
    "                dimension_slice = filtered_joint[:, j]\n",
    "                filtered_data = savgol_filter(dimension_slice, window_length=5, polyorder=2)\n",
    "                readpos[:, i+j] = filtered_data\n",
    "        \n",
    "        smooth_file = \"smooth_\" + file_path.name\n",
    "        np.savetxt(f'Filtered Correct Movements/{smooth_file}', readpos, delimiter=',', fmt='%f')"
   ]
  },
  {
   "cell_type": "code",
   "execution_count": null,
   "id": "f889cff4",
   "metadata": {},
   "outputs": [],
   "source": []
  }
 ],
 "metadata": {
  "kernelspec": {
   "display_name": "Python 3 (ipykernel)",
   "language": "python",
   "name": "python3"
  },
  "language_info": {
   "codemirror_mode": {
    "name": "ipython",
    "version": 3
   },
   "file_extension": ".py",
   "mimetype": "text/x-python",
   "name": "python",
   "nbconvert_exporter": "python",
   "pygments_lexer": "ipython3",
   "version": "3.11.7"
  }
 },
 "nbformat": 4,
 "nbformat_minor": 5
}
