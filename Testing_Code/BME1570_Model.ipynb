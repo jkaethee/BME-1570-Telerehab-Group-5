{
 "cells": [
  {
   "cell_type": "code",
   "execution_count": null,
   "id": "dddf5fbb",
   "metadata": {
    "vscode": {
     "languageId": "powershell"
    }
   },
   "outputs": [],
   "source": [
    "#This block is used to set the environment for the next block (optional if env is properly setup)\n",
    "\n",
    "conda create --name openmmlab python=3.8 -y\n",
    "conda activate openmmlab\n",
    "\n",
    "\n",
    "conda install pytorch torchvision -c pytorch\n",
    "\n",
    "pip install -U openmim\n",
    "mim install mmengine\n",
    "mim install mmcv==2.1.0\n",
    "mim install mmdet==3.2.0\n",
    "mim install mmpose\n",
    "\n",
    "pip install mmaction2"
   ]
  },
  {
   "cell_type": "code",
   "execution_count": 1,
   "id": "f1d7cbd6",
   "metadata": {},
   "outputs": [
    {
     "name": "stdout",
     "output_type": "stream",
     "text": [
      "Training fold 1 with loso_split_s02.pkl as the validation set\n",
      "python E:\\Mina_Files\\school\\Master@UofT\\Uoft_Coding\\BME1570-Digital_Health\\mmaction\\mmaction2\\tools\\train.py \"C:\\Users\\Mina Latif\\Downloads\\2s-agcn_8xb16-joint-motion-u100-80e_uiprmd-xsub-keypoint-3d.py\"--cfg-options train_dataloader.dataset.ann_file=\"['E:\\\\Mina_Files\\\\school\\\\Master@UofT\\\\Uoft_Coding\\\\BME1570-Digital_Health\\\\Git\\\\BME-1570-Telerehab-Group-5\\\\annotations.pkl', 'E:\\\\Mina_Files\\\\school\\\\Master@UofT\\\\Uoft_Coding\\\\BME1570-Digital_Health\\\\Git\\\\BME-1570-Telerehab-Group-5\\\\loso_split_s01.pkl', 'E:\\\\Mina_Files\\\\school\\\\Master@UofT\\\\Uoft_Coding\\\\BME1570-Digital_Health\\\\Git\\\\BME-1570-Telerehab-Group-5\\\\loso_split_s03.pkl', 'E:\\\\Mina_Files\\\\school\\\\Master@UofT\\\\Uoft_Coding\\\\BME1570-Digital_Health\\\\Git\\\\BME-1570-Telerehab-Group-5\\\\loso_split_s04.pkl', 'E:\\\\Mina_Files\\\\school\\\\Master@UofT\\\\Uoft_Coding\\\\BME1570-Digital_Health\\\\Git\\\\BME-1570-Telerehab-Group-5\\\\loso_split_s05.pkl', 'E:\\\\Mina_Files\\\\school\\\\Master@UofT\\\\Uoft_Coding\\\\BME1570-Digital_Health\\\\Git\\\\BME-1570-Telerehab-Group-5\\\\loso_split_s06.pkl', 'E:\\\\Mina_Files\\\\school\\\\Master@UofT\\\\Uoft_Coding\\\\BME1570-Digital_Health\\\\Git\\\\BME-1570-Telerehab-Group-5\\\\loso_split_s07.pkl', 'E:\\\\Mina_Files\\\\school\\\\Master@UofT\\\\Uoft_Coding\\\\BME1570-Digital_Health\\\\Git\\\\BME-1570-Telerehab-Group-5\\\\loso_split_s08.pkl', 'E:\\\\Mina_Files\\\\school\\\\Master@UofT\\\\Uoft_Coding\\\\BME1570-Digital_Health\\\\Git\\\\BME-1570-Telerehab-Group-5\\\\loso_split_s09.pkl', 'E:\\\\Mina_Files\\\\school\\\\Master@UofT\\\\Uoft_Coding\\\\BME1570-Digital_Health\\\\Git\\\\BME-1570-Telerehab-Group-5\\\\loso_split_s10.pkl']\" --cfg-options work_dir=\"/Users/jennywei/mmaction2\" --cfg-options log_config.hooks[0].type='TextLoggerHook' --cfg-options log_config.hooks[0].log_file=\"/Users/jennywei/mmaction2/training_log.txt\"\n",
      "Training fold 2 with loso_split_s06.pkl as the validation set\n",
      "python E:\\Mina_Files\\school\\Master@UofT\\Uoft_Coding\\BME1570-Digital_Health\\mmaction\\mmaction2\\tools\\train.py \"C:\\Users\\Mina Latif\\Downloads\\2s-agcn_8xb16-joint-motion-u100-80e_uiprmd-xsub-keypoint-3d.py\"--cfg-options train_dataloader.dataset.ann_file=\"['E:\\\\Mina_Files\\\\school\\\\Master@UofT\\\\Uoft_Coding\\\\BME1570-Digital_Health\\\\Git\\\\BME-1570-Telerehab-Group-5\\\\annotations.pkl', 'E:\\\\Mina_Files\\\\school\\\\Master@UofT\\\\Uoft_Coding\\\\BME1570-Digital_Health\\\\Git\\\\BME-1570-Telerehab-Group-5\\\\loso_split_s01.pkl', 'E:\\\\Mina_Files\\\\school\\\\Master@UofT\\\\Uoft_Coding\\\\BME1570-Digital_Health\\\\Git\\\\BME-1570-Telerehab-Group-5\\\\loso_split_s02.pkl', 'E:\\\\Mina_Files\\\\school\\\\Master@UofT\\\\Uoft_Coding\\\\BME1570-Digital_Health\\\\Git\\\\BME-1570-Telerehab-Group-5\\\\loso_split_s03.pkl', 'E:\\\\Mina_Files\\\\school\\\\Master@UofT\\\\Uoft_Coding\\\\BME1570-Digital_Health\\\\Git\\\\BME-1570-Telerehab-Group-5\\\\loso_split_s04.pkl', 'E:\\\\Mina_Files\\\\school\\\\Master@UofT\\\\Uoft_Coding\\\\BME1570-Digital_Health\\\\Git\\\\BME-1570-Telerehab-Group-5\\\\loso_split_s05.pkl', 'E:\\\\Mina_Files\\\\school\\\\Master@UofT\\\\Uoft_Coding\\\\BME1570-Digital_Health\\\\Git\\\\BME-1570-Telerehab-Group-5\\\\loso_split_s07.pkl', 'E:\\\\Mina_Files\\\\school\\\\Master@UofT\\\\Uoft_Coding\\\\BME1570-Digital_Health\\\\Git\\\\BME-1570-Telerehab-Group-5\\\\loso_split_s08.pkl', 'E:\\\\Mina_Files\\\\school\\\\Master@UofT\\\\Uoft_Coding\\\\BME1570-Digital_Health\\\\Git\\\\BME-1570-Telerehab-Group-5\\\\loso_split_s09.pkl', 'E:\\\\Mina_Files\\\\school\\\\Master@UofT\\\\Uoft_Coding\\\\BME1570-Digital_Health\\\\Git\\\\BME-1570-Telerehab-Group-5\\\\loso_split_s10.pkl']\" --cfg-options work_dir=\"/Users/jennywei/mmaction2\" --cfg-options log_config.hooks[0].type='TextLoggerHook' --cfg-options log_config.hooks[0].log_file=\"/Users/jennywei/mmaction2/training_log.txt\"\n",
      "Training fold 3 with loso_split_s08.pkl as the validation set\n",
      "python E:\\Mina_Files\\school\\Master@UofT\\Uoft_Coding\\BME1570-Digital_Health\\mmaction\\mmaction2\\tools\\train.py \"C:\\Users\\Mina Latif\\Downloads\\2s-agcn_8xb16-joint-motion-u100-80e_uiprmd-xsub-keypoint-3d.py\"--cfg-options train_dataloader.dataset.ann_file=\"['E:\\\\Mina_Files\\\\school\\\\Master@UofT\\\\Uoft_Coding\\\\BME1570-Digital_Health\\\\Git\\\\BME-1570-Telerehab-Group-5\\\\annotations.pkl', 'E:\\\\Mina_Files\\\\school\\\\Master@UofT\\\\Uoft_Coding\\\\BME1570-Digital_Health\\\\Git\\\\BME-1570-Telerehab-Group-5\\\\loso_split_s01.pkl', 'E:\\\\Mina_Files\\\\school\\\\Master@UofT\\\\Uoft_Coding\\\\BME1570-Digital_Health\\\\Git\\\\BME-1570-Telerehab-Group-5\\\\loso_split_s02.pkl', 'E:\\\\Mina_Files\\\\school\\\\Master@UofT\\\\Uoft_Coding\\\\BME1570-Digital_Health\\\\Git\\\\BME-1570-Telerehab-Group-5\\\\loso_split_s03.pkl', 'E:\\\\Mina_Files\\\\school\\\\Master@UofT\\\\Uoft_Coding\\\\BME1570-Digital_Health\\\\Git\\\\BME-1570-Telerehab-Group-5\\\\loso_split_s04.pkl', 'E:\\\\Mina_Files\\\\school\\\\Master@UofT\\\\Uoft_Coding\\\\BME1570-Digital_Health\\\\Git\\\\BME-1570-Telerehab-Group-5\\\\loso_split_s05.pkl', 'E:\\\\Mina_Files\\\\school\\\\Master@UofT\\\\Uoft_Coding\\\\BME1570-Digital_Health\\\\Git\\\\BME-1570-Telerehab-Group-5\\\\loso_split_s06.pkl', 'E:\\\\Mina_Files\\\\school\\\\Master@UofT\\\\Uoft_Coding\\\\BME1570-Digital_Health\\\\Git\\\\BME-1570-Telerehab-Group-5\\\\loso_split_s07.pkl', 'E:\\\\Mina_Files\\\\school\\\\Master@UofT\\\\Uoft_Coding\\\\BME1570-Digital_Health\\\\Git\\\\BME-1570-Telerehab-Group-5\\\\loso_split_s09.pkl', 'E:\\\\Mina_Files\\\\school\\\\Master@UofT\\\\Uoft_Coding\\\\BME1570-Digital_Health\\\\Git\\\\BME-1570-Telerehab-Group-5\\\\loso_split_s10.pkl']\" --cfg-options work_dir=\"/Users/jennywei/mmaction2\" --cfg-options log_config.hooks[0].type='TextLoggerHook' --cfg-options log_config.hooks[0].log_file=\"/Users/jennywei/mmaction2/training_log.txt\"\n",
      "Training fold 4 with loso_split_s07.pkl as the validation set\n",
      "python E:\\Mina_Files\\school\\Master@UofT\\Uoft_Coding\\BME1570-Digital_Health\\mmaction\\mmaction2\\tools\\train.py \"C:\\Users\\Mina Latif\\Downloads\\2s-agcn_8xb16-joint-motion-u100-80e_uiprmd-xsub-keypoint-3d.py\"--cfg-options train_dataloader.dataset.ann_file=\"['E:\\\\Mina_Files\\\\school\\\\Master@UofT\\\\Uoft_Coding\\\\BME1570-Digital_Health\\\\Git\\\\BME-1570-Telerehab-Group-5\\\\annotations.pkl', 'E:\\\\Mina_Files\\\\school\\\\Master@UofT\\\\Uoft_Coding\\\\BME1570-Digital_Health\\\\Git\\\\BME-1570-Telerehab-Group-5\\\\loso_split_s01.pkl', 'E:\\\\Mina_Files\\\\school\\\\Master@UofT\\\\Uoft_Coding\\\\BME1570-Digital_Health\\\\Git\\\\BME-1570-Telerehab-Group-5\\\\loso_split_s02.pkl', 'E:\\\\Mina_Files\\\\school\\\\Master@UofT\\\\Uoft_Coding\\\\BME1570-Digital_Health\\\\Git\\\\BME-1570-Telerehab-Group-5\\\\loso_split_s03.pkl', 'E:\\\\Mina_Files\\\\school\\\\Master@UofT\\\\Uoft_Coding\\\\BME1570-Digital_Health\\\\Git\\\\BME-1570-Telerehab-Group-5\\\\loso_split_s04.pkl', 'E:\\\\Mina_Files\\\\school\\\\Master@UofT\\\\Uoft_Coding\\\\BME1570-Digital_Health\\\\Git\\\\BME-1570-Telerehab-Group-5\\\\loso_split_s05.pkl', 'E:\\\\Mina_Files\\\\school\\\\Master@UofT\\\\Uoft_Coding\\\\BME1570-Digital_Health\\\\Git\\\\BME-1570-Telerehab-Group-5\\\\loso_split_s06.pkl', 'E:\\\\Mina_Files\\\\school\\\\Master@UofT\\\\Uoft_Coding\\\\BME1570-Digital_Health\\\\Git\\\\BME-1570-Telerehab-Group-5\\\\loso_split_s08.pkl', 'E:\\\\Mina_Files\\\\school\\\\Master@UofT\\\\Uoft_Coding\\\\BME1570-Digital_Health\\\\Git\\\\BME-1570-Telerehab-Group-5\\\\loso_split_s09.pkl', 'E:\\\\Mina_Files\\\\school\\\\Master@UofT\\\\Uoft_Coding\\\\BME1570-Digital_Health\\\\Git\\\\BME-1570-Telerehab-Group-5\\\\loso_split_s10.pkl']\" --cfg-options work_dir=\"/Users/jennywei/mmaction2\" --cfg-options log_config.hooks[0].type='TextLoggerHook' --cfg-options log_config.hooks[0].log_file=\"/Users/jennywei/mmaction2/training_log.txt\"\n",
      "Training fold 5 with loso_split_s09.pkl as the validation set\n",
      "python E:\\Mina_Files\\school\\Master@UofT\\Uoft_Coding\\BME1570-Digital_Health\\mmaction\\mmaction2\\tools\\train.py \"C:\\Users\\Mina Latif\\Downloads\\2s-agcn_8xb16-joint-motion-u100-80e_uiprmd-xsub-keypoint-3d.py\"--cfg-options train_dataloader.dataset.ann_file=\"['E:\\\\Mina_Files\\\\school\\\\Master@UofT\\\\Uoft_Coding\\\\BME1570-Digital_Health\\\\Git\\\\BME-1570-Telerehab-Group-5\\\\annotations.pkl', 'E:\\\\Mina_Files\\\\school\\\\Master@UofT\\\\Uoft_Coding\\\\BME1570-Digital_Health\\\\Git\\\\BME-1570-Telerehab-Group-5\\\\loso_split_s01.pkl', 'E:\\\\Mina_Files\\\\school\\\\Master@UofT\\\\Uoft_Coding\\\\BME1570-Digital_Health\\\\Git\\\\BME-1570-Telerehab-Group-5\\\\loso_split_s02.pkl', 'E:\\\\Mina_Files\\\\school\\\\Master@UofT\\\\Uoft_Coding\\\\BME1570-Digital_Health\\\\Git\\\\BME-1570-Telerehab-Group-5\\\\loso_split_s03.pkl', 'E:\\\\Mina_Files\\\\school\\\\Master@UofT\\\\Uoft_Coding\\\\BME1570-Digital_Health\\\\Git\\\\BME-1570-Telerehab-Group-5\\\\loso_split_s04.pkl', 'E:\\\\Mina_Files\\\\school\\\\Master@UofT\\\\Uoft_Coding\\\\BME1570-Digital_Health\\\\Git\\\\BME-1570-Telerehab-Group-5\\\\loso_split_s05.pkl', 'E:\\\\Mina_Files\\\\school\\\\Master@UofT\\\\Uoft_Coding\\\\BME1570-Digital_Health\\\\Git\\\\BME-1570-Telerehab-Group-5\\\\loso_split_s06.pkl', 'E:\\\\Mina_Files\\\\school\\\\Master@UofT\\\\Uoft_Coding\\\\BME1570-Digital_Health\\\\Git\\\\BME-1570-Telerehab-Group-5\\\\loso_split_s07.pkl', 'E:\\\\Mina_Files\\\\school\\\\Master@UofT\\\\Uoft_Coding\\\\BME1570-Digital_Health\\\\Git\\\\BME-1570-Telerehab-Group-5\\\\loso_split_s08.pkl', 'E:\\\\Mina_Files\\\\school\\\\Master@UofT\\\\Uoft_Coding\\\\BME1570-Digital_Health\\\\Git\\\\BME-1570-Telerehab-Group-5\\\\loso_split_s10.pkl']\" --cfg-options work_dir=\"/Users/jennywei/mmaction2\" --cfg-options log_config.hooks[0].type='TextLoggerHook' --cfg-options log_config.hooks[0].log_file=\"/Users/jennywei/mmaction2/training_log.txt\"\n",
      "Training fold 6 with loso_split_s05.pkl as the validation set\n",
      "python E:\\Mina_Files\\school\\Master@UofT\\Uoft_Coding\\BME1570-Digital_Health\\mmaction\\mmaction2\\tools\\train.py \"C:\\Users\\Mina Latif\\Downloads\\2s-agcn_8xb16-joint-motion-u100-80e_uiprmd-xsub-keypoint-3d.py\"--cfg-options train_dataloader.dataset.ann_file=\"['E:\\\\Mina_Files\\\\school\\\\Master@UofT\\\\Uoft_Coding\\\\BME1570-Digital_Health\\\\Git\\\\BME-1570-Telerehab-Group-5\\\\annotations.pkl', 'E:\\\\Mina_Files\\\\school\\\\Master@UofT\\\\Uoft_Coding\\\\BME1570-Digital_Health\\\\Git\\\\BME-1570-Telerehab-Group-5\\\\loso_split_s01.pkl', 'E:\\\\Mina_Files\\\\school\\\\Master@UofT\\\\Uoft_Coding\\\\BME1570-Digital_Health\\\\Git\\\\BME-1570-Telerehab-Group-5\\\\loso_split_s02.pkl', 'E:\\\\Mina_Files\\\\school\\\\Master@UofT\\\\Uoft_Coding\\\\BME1570-Digital_Health\\\\Git\\\\BME-1570-Telerehab-Group-5\\\\loso_split_s03.pkl', 'E:\\\\Mina_Files\\\\school\\\\Master@UofT\\\\Uoft_Coding\\\\BME1570-Digital_Health\\\\Git\\\\BME-1570-Telerehab-Group-5\\\\loso_split_s04.pkl', 'E:\\\\Mina_Files\\\\school\\\\Master@UofT\\\\Uoft_Coding\\\\BME1570-Digital_Health\\\\Git\\\\BME-1570-Telerehab-Group-5\\\\loso_split_s06.pkl', 'E:\\\\Mina_Files\\\\school\\\\Master@UofT\\\\Uoft_Coding\\\\BME1570-Digital_Health\\\\Git\\\\BME-1570-Telerehab-Group-5\\\\loso_split_s07.pkl', 'E:\\\\Mina_Files\\\\school\\\\Master@UofT\\\\Uoft_Coding\\\\BME1570-Digital_Health\\\\Git\\\\BME-1570-Telerehab-Group-5\\\\loso_split_s08.pkl', 'E:\\\\Mina_Files\\\\school\\\\Master@UofT\\\\Uoft_Coding\\\\BME1570-Digital_Health\\\\Git\\\\BME-1570-Telerehab-Group-5\\\\loso_split_s09.pkl', 'E:\\\\Mina_Files\\\\school\\\\Master@UofT\\\\Uoft_Coding\\\\BME1570-Digital_Health\\\\Git\\\\BME-1570-Telerehab-Group-5\\\\loso_split_s10.pkl']\" --cfg-options work_dir=\"/Users/jennywei/mmaction2\" --cfg-options log_config.hooks[0].type='TextLoggerHook' --cfg-options log_config.hooks[0].log_file=\"/Users/jennywei/mmaction2/training_log.txt\"\n",
      "Training fold 7 with annotations.pkl as the validation set\n",
      "python E:\\Mina_Files\\school\\Master@UofT\\Uoft_Coding\\BME1570-Digital_Health\\mmaction\\mmaction2\\tools\\train.py \"C:\\Users\\Mina Latif\\Downloads\\2s-agcn_8xb16-joint-motion-u100-80e_uiprmd-xsub-keypoint-3d.py\"--cfg-options train_dataloader.dataset.ann_file=\"['E:\\\\Mina_Files\\\\school\\\\Master@UofT\\\\Uoft_Coding\\\\BME1570-Digital_Health\\\\Git\\\\BME-1570-Telerehab-Group-5\\\\loso_split_s01.pkl', 'E:\\\\Mina_Files\\\\school\\\\Master@UofT\\\\Uoft_Coding\\\\BME1570-Digital_Health\\\\Git\\\\BME-1570-Telerehab-Group-5\\\\loso_split_s02.pkl', 'E:\\\\Mina_Files\\\\school\\\\Master@UofT\\\\Uoft_Coding\\\\BME1570-Digital_Health\\\\Git\\\\BME-1570-Telerehab-Group-5\\\\loso_split_s03.pkl', 'E:\\\\Mina_Files\\\\school\\\\Master@UofT\\\\Uoft_Coding\\\\BME1570-Digital_Health\\\\Git\\\\BME-1570-Telerehab-Group-5\\\\loso_split_s04.pkl', 'E:\\\\Mina_Files\\\\school\\\\Master@UofT\\\\Uoft_Coding\\\\BME1570-Digital_Health\\\\Git\\\\BME-1570-Telerehab-Group-5\\\\loso_split_s05.pkl', 'E:\\\\Mina_Files\\\\school\\\\Master@UofT\\\\Uoft_Coding\\\\BME1570-Digital_Health\\\\Git\\\\BME-1570-Telerehab-Group-5\\\\loso_split_s06.pkl', 'E:\\\\Mina_Files\\\\school\\\\Master@UofT\\\\Uoft_Coding\\\\BME1570-Digital_Health\\\\Git\\\\BME-1570-Telerehab-Group-5\\\\loso_split_s07.pkl', 'E:\\\\Mina_Files\\\\school\\\\Master@UofT\\\\Uoft_Coding\\\\BME1570-Digital_Health\\\\Git\\\\BME-1570-Telerehab-Group-5\\\\loso_split_s08.pkl', 'E:\\\\Mina_Files\\\\school\\\\Master@UofT\\\\Uoft_Coding\\\\BME1570-Digital_Health\\\\Git\\\\BME-1570-Telerehab-Group-5\\\\loso_split_s09.pkl', 'E:\\\\Mina_Files\\\\school\\\\Master@UofT\\\\Uoft_Coding\\\\BME1570-Digital_Health\\\\Git\\\\BME-1570-Telerehab-Group-5\\\\loso_split_s10.pkl']\" --cfg-options work_dir=\"/Users/jennywei/mmaction2\" --cfg-options log_config.hooks[0].type='TextLoggerHook' --cfg-options log_config.hooks[0].log_file=\"/Users/jennywei/mmaction2/training_log.txt\"\n",
      "Training fold 8 with loso_split_s10.pkl as the validation set\n",
      "python E:\\Mina_Files\\school\\Master@UofT\\Uoft_Coding\\BME1570-Digital_Health\\mmaction\\mmaction2\\tools\\train.py \"C:\\Users\\Mina Latif\\Downloads\\2s-agcn_8xb16-joint-motion-u100-80e_uiprmd-xsub-keypoint-3d.py\"--cfg-options train_dataloader.dataset.ann_file=\"['E:\\\\Mina_Files\\\\school\\\\Master@UofT\\\\Uoft_Coding\\\\BME1570-Digital_Health\\\\Git\\\\BME-1570-Telerehab-Group-5\\\\annotations.pkl', 'E:\\\\Mina_Files\\\\school\\\\Master@UofT\\\\Uoft_Coding\\\\BME1570-Digital_Health\\\\Git\\\\BME-1570-Telerehab-Group-5\\\\loso_split_s01.pkl', 'E:\\\\Mina_Files\\\\school\\\\Master@UofT\\\\Uoft_Coding\\\\BME1570-Digital_Health\\\\Git\\\\BME-1570-Telerehab-Group-5\\\\loso_split_s02.pkl', 'E:\\\\Mina_Files\\\\school\\\\Master@UofT\\\\Uoft_Coding\\\\BME1570-Digital_Health\\\\Git\\\\BME-1570-Telerehab-Group-5\\\\loso_split_s03.pkl', 'E:\\\\Mina_Files\\\\school\\\\Master@UofT\\\\Uoft_Coding\\\\BME1570-Digital_Health\\\\Git\\\\BME-1570-Telerehab-Group-5\\\\loso_split_s04.pkl', 'E:\\\\Mina_Files\\\\school\\\\Master@UofT\\\\Uoft_Coding\\\\BME1570-Digital_Health\\\\Git\\\\BME-1570-Telerehab-Group-5\\\\loso_split_s05.pkl', 'E:\\\\Mina_Files\\\\school\\\\Master@UofT\\\\Uoft_Coding\\\\BME1570-Digital_Health\\\\Git\\\\BME-1570-Telerehab-Group-5\\\\loso_split_s06.pkl', 'E:\\\\Mina_Files\\\\school\\\\Master@UofT\\\\Uoft_Coding\\\\BME1570-Digital_Health\\\\Git\\\\BME-1570-Telerehab-Group-5\\\\loso_split_s07.pkl', 'E:\\\\Mina_Files\\\\school\\\\Master@UofT\\\\Uoft_Coding\\\\BME1570-Digital_Health\\\\Git\\\\BME-1570-Telerehab-Group-5\\\\loso_split_s08.pkl', 'E:\\\\Mina_Files\\\\school\\\\Master@UofT\\\\Uoft_Coding\\\\BME1570-Digital_Health\\\\Git\\\\BME-1570-Telerehab-Group-5\\\\loso_split_s09.pkl']\" --cfg-options work_dir=\"/Users/jennywei/mmaction2\" --cfg-options log_config.hooks[0].type='TextLoggerHook' --cfg-options log_config.hooks[0].log_file=\"/Users/jennywei/mmaction2/training_log.txt\"\n",
      "Training fold 9 with loso_split_s04.pkl as the validation set\n",
      "python E:\\Mina_Files\\school\\Master@UofT\\Uoft_Coding\\BME1570-Digital_Health\\mmaction\\mmaction2\\tools\\train.py \"C:\\Users\\Mina Latif\\Downloads\\2s-agcn_8xb16-joint-motion-u100-80e_uiprmd-xsub-keypoint-3d.py\"--cfg-options train_dataloader.dataset.ann_file=\"['E:\\\\Mina_Files\\\\school\\\\Master@UofT\\\\Uoft_Coding\\\\BME1570-Digital_Health\\\\Git\\\\BME-1570-Telerehab-Group-5\\\\annotations.pkl', 'E:\\\\Mina_Files\\\\school\\\\Master@UofT\\\\Uoft_Coding\\\\BME1570-Digital_Health\\\\Git\\\\BME-1570-Telerehab-Group-5\\\\loso_split_s01.pkl', 'E:\\\\Mina_Files\\\\school\\\\Master@UofT\\\\Uoft_Coding\\\\BME1570-Digital_Health\\\\Git\\\\BME-1570-Telerehab-Group-5\\\\loso_split_s02.pkl', 'E:\\\\Mina_Files\\\\school\\\\Master@UofT\\\\Uoft_Coding\\\\BME1570-Digital_Health\\\\Git\\\\BME-1570-Telerehab-Group-5\\\\loso_split_s03.pkl', 'E:\\\\Mina_Files\\\\school\\\\Master@UofT\\\\Uoft_Coding\\\\BME1570-Digital_Health\\\\Git\\\\BME-1570-Telerehab-Group-5\\\\loso_split_s05.pkl', 'E:\\\\Mina_Files\\\\school\\\\Master@UofT\\\\Uoft_Coding\\\\BME1570-Digital_Health\\\\Git\\\\BME-1570-Telerehab-Group-5\\\\loso_split_s06.pkl', 'E:\\\\Mina_Files\\\\school\\\\Master@UofT\\\\Uoft_Coding\\\\BME1570-Digital_Health\\\\Git\\\\BME-1570-Telerehab-Group-5\\\\loso_split_s07.pkl', 'E:\\\\Mina_Files\\\\school\\\\Master@UofT\\\\Uoft_Coding\\\\BME1570-Digital_Health\\\\Git\\\\BME-1570-Telerehab-Group-5\\\\loso_split_s08.pkl', 'E:\\\\Mina_Files\\\\school\\\\Master@UofT\\\\Uoft_Coding\\\\BME1570-Digital_Health\\\\Git\\\\BME-1570-Telerehab-Group-5\\\\loso_split_s09.pkl', 'E:\\\\Mina_Files\\\\school\\\\Master@UofT\\\\Uoft_Coding\\\\BME1570-Digital_Health\\\\Git\\\\BME-1570-Telerehab-Group-5\\\\loso_split_s10.pkl']\" --cfg-options work_dir=\"/Users/jennywei/mmaction2\" --cfg-options log_config.hooks[0].type='TextLoggerHook' --cfg-options log_config.hooks[0].log_file=\"/Users/jennywei/mmaction2/training_log.txt\"\n",
      "Training fold 10 with loso_split_s01.pkl as the validation set\n",
      "python E:\\Mina_Files\\school\\Master@UofT\\Uoft_Coding\\BME1570-Digital_Health\\mmaction\\mmaction2\\tools\\train.py \"C:\\Users\\Mina Latif\\Downloads\\2s-agcn_8xb16-joint-motion-u100-80e_uiprmd-xsub-keypoint-3d.py\"--cfg-options train_dataloader.dataset.ann_file=\"['E:\\\\Mina_Files\\\\school\\\\Master@UofT\\\\Uoft_Coding\\\\BME1570-Digital_Health\\\\Git\\\\BME-1570-Telerehab-Group-5\\\\annotations.pkl', 'E:\\\\Mina_Files\\\\school\\\\Master@UofT\\\\Uoft_Coding\\\\BME1570-Digital_Health\\\\Git\\\\BME-1570-Telerehab-Group-5\\\\loso_split_s02.pkl', 'E:\\\\Mina_Files\\\\school\\\\Master@UofT\\\\Uoft_Coding\\\\BME1570-Digital_Health\\\\Git\\\\BME-1570-Telerehab-Group-5\\\\loso_split_s03.pkl', 'E:\\\\Mina_Files\\\\school\\\\Master@UofT\\\\Uoft_Coding\\\\BME1570-Digital_Health\\\\Git\\\\BME-1570-Telerehab-Group-5\\\\loso_split_s04.pkl', 'E:\\\\Mina_Files\\\\school\\\\Master@UofT\\\\Uoft_Coding\\\\BME1570-Digital_Health\\\\Git\\\\BME-1570-Telerehab-Group-5\\\\loso_split_s05.pkl', 'E:\\\\Mina_Files\\\\school\\\\Master@UofT\\\\Uoft_Coding\\\\BME1570-Digital_Health\\\\Git\\\\BME-1570-Telerehab-Group-5\\\\loso_split_s06.pkl', 'E:\\\\Mina_Files\\\\school\\\\Master@UofT\\\\Uoft_Coding\\\\BME1570-Digital_Health\\\\Git\\\\BME-1570-Telerehab-Group-5\\\\loso_split_s07.pkl', 'E:\\\\Mina_Files\\\\school\\\\Master@UofT\\\\Uoft_Coding\\\\BME1570-Digital_Health\\\\Git\\\\BME-1570-Telerehab-Group-5\\\\loso_split_s08.pkl', 'E:\\\\Mina_Files\\\\school\\\\Master@UofT\\\\Uoft_Coding\\\\BME1570-Digital_Health\\\\Git\\\\BME-1570-Telerehab-Group-5\\\\loso_split_s09.pkl', 'E:\\\\Mina_Files\\\\school\\\\Master@UofT\\\\Uoft_Coding\\\\BME1570-Digital_Health\\\\Git\\\\BME-1570-Telerehab-Group-5\\\\loso_split_s10.pkl']\" --cfg-options work_dir=\"/Users/jennywei/mmaction2\" --cfg-options log_config.hooks[0].type='TextLoggerHook' --cfg-options log_config.hooks[0].log_file=\"/Users/jennywei/mmaction2/training_log.txt\"\n",
      "Training fold 11 with loso_split_s03.pkl as the validation set\n",
      "python E:\\Mina_Files\\school\\Master@UofT\\Uoft_Coding\\BME1570-Digital_Health\\mmaction\\mmaction2\\tools\\train.py \"C:\\Users\\Mina Latif\\Downloads\\2s-agcn_8xb16-joint-motion-u100-80e_uiprmd-xsub-keypoint-3d.py\"--cfg-options train_dataloader.dataset.ann_file=\"['E:\\\\Mina_Files\\\\school\\\\Master@UofT\\\\Uoft_Coding\\\\BME1570-Digital_Health\\\\Git\\\\BME-1570-Telerehab-Group-5\\\\annotations.pkl', 'E:\\\\Mina_Files\\\\school\\\\Master@UofT\\\\Uoft_Coding\\\\BME1570-Digital_Health\\\\Git\\\\BME-1570-Telerehab-Group-5\\\\loso_split_s01.pkl', 'E:\\\\Mina_Files\\\\school\\\\Master@UofT\\\\Uoft_Coding\\\\BME1570-Digital_Health\\\\Git\\\\BME-1570-Telerehab-Group-5\\\\loso_split_s02.pkl', 'E:\\\\Mina_Files\\\\school\\\\Master@UofT\\\\Uoft_Coding\\\\BME1570-Digital_Health\\\\Git\\\\BME-1570-Telerehab-Group-5\\\\loso_split_s04.pkl', 'E:\\\\Mina_Files\\\\school\\\\Master@UofT\\\\Uoft_Coding\\\\BME1570-Digital_Health\\\\Git\\\\BME-1570-Telerehab-Group-5\\\\loso_split_s05.pkl', 'E:\\\\Mina_Files\\\\school\\\\Master@UofT\\\\Uoft_Coding\\\\BME1570-Digital_Health\\\\Git\\\\BME-1570-Telerehab-Group-5\\\\loso_split_s06.pkl', 'E:\\\\Mina_Files\\\\school\\\\Master@UofT\\\\Uoft_Coding\\\\BME1570-Digital_Health\\\\Git\\\\BME-1570-Telerehab-Group-5\\\\loso_split_s07.pkl', 'E:\\\\Mina_Files\\\\school\\\\Master@UofT\\\\Uoft_Coding\\\\BME1570-Digital_Health\\\\Git\\\\BME-1570-Telerehab-Group-5\\\\loso_split_s08.pkl', 'E:\\\\Mina_Files\\\\school\\\\Master@UofT\\\\Uoft_Coding\\\\BME1570-Digital_Health\\\\Git\\\\BME-1570-Telerehab-Group-5\\\\loso_split_s09.pkl', 'E:\\\\Mina_Files\\\\school\\\\Master@UofT\\\\Uoft_Coding\\\\BME1570-Digital_Health\\\\Git\\\\BME-1570-Telerehab-Group-5\\\\loso_split_s10.pkl']\" --cfg-options work_dir=\"/Users/jennywei/mmaction2\" --cfg-options log_config.hooks[0].type='TextLoggerHook' --cfg-options log_config.hooks[0].log_file=\"/Users/jennywei/mmaction2/training_log.txt\"\n",
      "STDOUT: \n",
      "STDERR: c:\\ProgramData\\anaconda3\\envs\\openmmlab\\lib\\site-packages\\mmengine\\optim\\optimizer\\zero_optimizer.py:11: DeprecationWarning: `TorchScript` support for functional optimizers is deprecated and will be removed in a future PyTorch release. Consider using the `torch.compile` optimizer instead.\n",
      "  from torch.distributed.optim import \\\n",
      "usage: train.py [-h] [--work-dir WORK_DIR] [--resume [RESUME]] [--amp]\n",
      "                [--no-validate] [--auto-scale-lr] [--seed SEED]\n",
      "                [--diff-rank-seed] [--deterministic]\n",
      "                [--cfg-options CFG_OPTIONS [CFG_OPTIONS ...]]\n",
      "                [--launcher {none,pytorch,slurm,mpi}]\n",
      "                [--local_rank LOCAL_RANK]\n",
      "                config\n",
      "train.py: error: unrecognized arguments: train_dataloader.dataset.ann_file=['E:\\\\Mina_Files\\\\school\\\\Master@UofT\\\\Uoft_Coding\\\\BME1570-Digital_Health\\\\Git\\\\BME-1570-Telerehab-Group-5\\\\annotations.pkl', 'E:\\\\Mina_Files\\\\school\\\\Master@UofT\\\\Uoft_Coding\\\\BME1570-Digital_Health\\\\Git\\\\BME-1570-Telerehab-Group-5\\\\loso_split_s01.pkl', 'E:\\\\Mina_Files\\\\school\\\\Master@UofT\\\\Uoft_Coding\\\\BME1570-Digital_Health\\\\Git\\\\BME-1570-Telerehab-Group-5\\\\loso_split_s02.pkl', 'E:\\\\Mina_Files\\\\school\\\\Master@UofT\\\\Uoft_Coding\\\\BME1570-Digital_Health\\\\Git\\\\BME-1570-Telerehab-Group-5\\\\loso_split_s04.pkl', 'E:\\\\Mina_Files\\\\school\\\\Master@UofT\\\\Uoft_Coding\\\\BME1570-Digital_Health\\\\Git\\\\BME-1570-Telerehab-Group-5\\\\loso_split_s05.pkl', 'E:\\\\Mina_Files\\\\school\\\\Master@UofT\\\\Uoft_Coding\\\\BME1570-Digital_Health\\\\Git\\\\BME-1570-Telerehab-Group-5\\\\loso_split_s06.pkl', 'E:\\\\Mina_Files\\\\school\\\\Master@UofT\\\\Uoft_Coding\\\\BME1570-Digital_Health\\\\Git\\\\BME-1570-Telerehab-Group-5\\\\loso_split_s07.pkl', 'E:\\\\Mina_Files\\\\school\\\\Master@UofT\\\\Uoft_Coding\\\\BME1570-Digital_Health\\\\Git\\\\BME-1570-Telerehab-Group-5\\\\loso_split_s08.pkl', 'E:\\\\Mina_Files\\\\school\\\\Master@UofT\\\\Uoft_Coding\\\\BME1570-Digital_Health\\\\Git\\\\BME-1570-Telerehab-Group-5\\\\loso_split_s09.pkl', 'E:\\\\Mina_Files\\\\school\\\\Master@UofT\\\\Uoft_Coding\\\\BME1570-Digital_Health\\\\Git\\\\BME-1570-Telerehab-Group-5\\\\loso_split_s10.pkl']\n",
      "\n"
     ]
    }
   ],
   "source": [
    "import sys\n",
    "import os\n",
    "import random\n",
    "import subprocess\n",
    "import mmaction\n",
    "import mmengine\n",
    "from mmengine.utils import digit_version\n",
    "\n",
    "pickle_dir =\"E:\\\\Mina_Files\\\\school\\\\Master@UofT\\\\Uoft_Coding\\\\BME1570-Digital_Health\\\\Git\\\\BME-1570-Telerehab-Group-5\"\n",
    "pickle_files = [f for f in os.listdir(pickle_dir) if f.endswith('.pkl')]\n",
    "\n",
    "work_dir ='E:\\\\Mina_Files\\\\school\\\\Master@UofT\\\\Uoft_Coding\\\\BME1570-Digital_Health\\\\mmaction\\\\mmaction2'\n",
    "config_file ='C:\\\\Users\\\\Mina Latif\\\\Downloads\\\\2s-agcn_8xb16-joint-motion-u100-80e_uiprmd-xsub-keypoint-3d.py'\n",
    "\n",
    "\n",
    "# This loads all the functions (like get_train_val_split) and variables from the config\n",
    "exec(open(config_file).read())\n",
    "\n",
    "# Shuffle the list of pickle files to ensure randomness\n",
    "random.shuffle(pickle_files)\n",
    "# Start Leave-One-Out Cross Validation (LOO CV)\n",
    "for fold, test_subject in enumerate(pickle_files):\n",
    "    print(f\"Training fold {fold + 1} with {test_subject} as the validation set\")\n",
    "\n",
    "    # Get the current training and validation splits for the fold\n",
    "    train_data, val_data = get_train_val_split(test_subject, pickle_dir)\n",
    "\n",
    "    # Command to train the model, passing the dataset paths dynamically\\\n",
    "    command = f\"python E:\\Mina_Files\\\\school\\\\Master@UofT\\\\Uoft_Coding\\\\BME1570-Digital_Health\\\\mmaction\\\\mmaction2\\\\tools\\\\train.py \\\"{config_file}\\\"\" \\\n",
    "              f\"--cfg-options train_dataloader.dataset.ann_file=\\\"{train_data}\\\" \" \\\n",
    "              f\"--cfg-options work_dir=\\\"{work_dir}\\\" \" \\\n",
    "              f\"--cfg-options log_config.hooks[0].type='TextLoggerHook' \" \\\n",
    "              f\"--cfg-options log_config.hooks[0].log_file=\\\"{work_dir}/training_log.txt\\\"\"\n",
    "\n",
    "    \n",
    "    # Print the command for debugging\n",
    "    print(command)\n",
    "\n",
    "    # Run the training command for the current fold\n",
    "    subprocess.run(command, shell=True)  # Execute the training for this fold\n",
    "    result = subprocess.run(command, shell=True, capture_output=True, text=True)\n",
    "\n",
    "# Print the output for debugging\n",
    "print(\"STDOUT:\", result.stdout)\n",
    "print(\"STDERR:\", result.stderr)\n"
   ]
  },
  {
   "cell_type": "code",
   "execution_count": 5,
   "id": "e75a9836-b2e3-41c9-aba7-2d618c1c6c13",
   "metadata": {},
   "outputs": [],
   "source": [
    "sys.path.append('E:\\Mina_Files\\\\school\\\\Master@UofT\\\\Uoft_Coding\\\\BME1570-Digital_Health\\\\mmaction\\\\mmaction2')"
   ]
  },
  {
   "cell_type": "code",
   "execution_count": 3,
   "id": "9a19231f",
   "metadata": {},
   "outputs": [
    {
     "name": "stdout",
     "output_type": "stream",
     "text": [
      "\u001b[31mERROR: Could not find a version that satisfies the requirement decord>=0.4.1 (from versions: none)\u001b[0m\u001b[31m\n",
      "\u001b[0m\u001b[31mERROR: No matching distribution found for decord>=0.4.1\u001b[0m\u001b[31m\n",
      "\u001b[0mNote: you may need to restart the kernel to use updated packages.\n"
     ]
    }
   ],
   "source": [
    "pip install --upgrade -r /Users/jennywei/mmaction2/requirements.txt\n"
   ]
  },
  {
   "cell_type": "code",
   "execution_count": 8,
   "id": "979be8dd",
   "metadata": {},
   "outputs": [],
   "source": [
    "import mmaction\n",
    "from mmaction.registry import RUNNERS"
   ]
  },
  {
   "cell_type": "code",
   "execution_count": 8,
   "id": "bf4ed1ca",
   "metadata": {},
   "outputs": [
    {
     "name": "stdout",
     "output_type": "stream",
     "text": [
      "Requirement already satisfied: flatbuffers in /Users/jennywei/opt/anaconda3/lib/python3.9/site-packages (1.12)\n",
      "\u001b[31mERROR: Could not install packages due to an OSError: [Errno 2] No such file or directory: '/Users/jennywei/opt/anaconda3/lib/python3.9/site-packages/flatbuffers-1.12.dist-info/METADATA'\n",
      "\u001b[0m\u001b[31m\n",
      "\u001b[0mNote: you may need to restart the kernel to use updated packages.\n"
     ]
    }
   ],
   "source": [
    "pip install flatbuffers\n"
   ]
  },
  {
   "cell_type": "code",
   "execution_count": 4,
   "id": "a63378d0",
   "metadata": {},
   "outputs": [
    {
     "name": "stdout",
     "output_type": "stream",
     "text": [
      "Files removed: 2162\n",
      "Note: you may need to restart the kernel to use updated packages.\n"
     ]
    }
   ],
   "source": [
    "pip cache purge\n"
   ]
  },
  {
   "cell_type": "code",
   "execution_count": 6,
   "id": "bd2f24a3",
   "metadata": {},
   "outputs": [
    {
     "name": "stdout",
     "output_type": "stream",
     "text": [
      "Log file not found.\n"
     ]
    }
   ],
   "source": [
    "if os.path.exists(f\"{work_dir}/training_log.txt\"):\n",
    "    print(\"Log file found!\")\n",
    "else:\n",
    "    print(\"Log file not found.\")\n"
   ]
  },
  {
   "cell_type": "code",
   "execution_count": 7,
   "id": "f8d8821f",
   "metadata": {},
   "outputs": [
    {
     "ename": "FileNotFoundError",
     "evalue": "[WinError 3] The system cannot find the path specified: '/Users/jennywei/mmaction2'",
     "output_type": "error",
     "traceback": [
      "\u001b[1;31m---------------------------------------------------------------------------\u001b[0m",
      "\u001b[1;31mFileNotFoundError\u001b[0m                         Traceback (most recent call last)",
      "Cell \u001b[1;32mIn[7], line 1\u001b[0m\n\u001b[1;32m----> 1\u001b[0m files_in_work_dir \u001b[38;5;241m=\u001b[39m \u001b[43mos\u001b[49m\u001b[38;5;241;43m.\u001b[39;49m\u001b[43mlistdir\u001b[49m\u001b[43m(\u001b[49m\u001b[43mwork_dir\u001b[49m\u001b[43m)\u001b[49m\n\u001b[0;32m      2\u001b[0m \u001b[38;5;28mprint\u001b[39m(\u001b[38;5;124m\"\u001b[39m\u001b[38;5;124mFiles in work_dir:\u001b[39m\u001b[38;5;124m\"\u001b[39m, files_in_work_dir)\n",
      "\u001b[1;31mFileNotFoundError\u001b[0m: [WinError 3] The system cannot find the path specified: '/Users/jennywei/mmaction2'"
     ]
    }
   ],
   "source": [
    "files_in_work_dir = os.listdir(work_dir)\n",
    "print(\"Files in work_dir:\", files_in_work_dir)\n"
   ]
  },
  {
   "cell_type": "code",
   "execution_count": 4,
   "id": "0c0cbb86",
   "metadata": {},
   "outputs": [
    {
     "name": "stdout",
     "output_type": "stream",
     "text": [
      "Current working directory: c:\\Users\\Mina Latif\\Downloads\n"
     ]
    }
   ],
   "source": [
    "import os\n",
    "print(\"Current working directory:\", os.getcwd())\n"
   ]
  },
  {
   "cell_type": "code",
   "execution_count": 22,
   "id": "84c48133",
   "metadata": {},
   "outputs": [
    {
     "name": "stdout",
     "output_type": "stream",
     "text": [
      "Checkpoint file not found.\n"
     ]
    }
   ],
   "source": [
    "# Check if a specific output file exists\n",
    "checkpoint_path = '/Users/jennywei/mmaction2/fold_1/checkpoints/latest_checkpoint.pth'\n",
    "if os.path.exists(checkpoint_path):\n",
    "    print(f\"Checkpoint saved at {checkpoint_path}\")\n",
    "else:\n",
    "    print(\"Checkpoint file not found.\")"
   ]
  },
  {
   "cell_type": "code",
   "execution_count": 17,
   "id": "1857b1a7",
   "metadata": {},
   "outputs": [
    {
     "ename": "NameError",
     "evalue": "name 'train_output_directory' is not defined",
     "output_type": "error",
     "traceback": [
      "\u001b[0;31m---------------------------------------------------------------------------\u001b[0m",
      "\u001b[0;31mNameError\u001b[0m                                 Traceback (most recent call last)",
      "Input \u001b[0;32mIn [17]\u001b[0m, in \u001b[0;36m<cell line: 2>\u001b[0;34m()\u001b[0m\n\u001b[1;32m      1\u001b[0m \u001b[38;5;66;03m# After training, use the following to test/evaluate the model\u001b[39;00m\n\u001b[1;32m      2\u001b[0m command \u001b[38;5;241m=\u001b[39m \u001b[38;5;124mf\u001b[39m\u001b[38;5;124m\"\u001b[39m\u001b[38;5;124mpython tools/test.py \u001b[39m\u001b[38;5;124m'\u001b[39m\u001b[38;5;124m/Users/jennywei/Documents Mac/BME1570/2s-agcn_8xb16-joint-motion-u100-80e_uiprmd-xsub-keypoint-3d.py\u001b[39m\u001b[38;5;124m'\u001b[39m\u001b[38;5;124m \u001b[39m\u001b[38;5;124m\"\u001b[39m \\\n\u001b[0;32m----> 3\u001b[0m           \u001b[38;5;124mf\u001b[39m\u001b[38;5;124m\"\u001b[39m\u001b[38;5;124m--checkpoint \u001b[39m\u001b[38;5;132;01m{\u001b[39;00mtrain_output_directory\u001b[38;5;132;01m}\u001b[39;00m\u001b[38;5;124m/latest.pth \u001b[39m\u001b[38;5;124m\"\u001b[39m \\\n\u001b[1;32m      4\u001b[0m           \u001b[38;5;124mf\u001b[39m\u001b[38;5;124m\"\u001b[39m\u001b[38;5;124m--eval mAP\u001b[39m\u001b[38;5;124m\"\u001b[39m\n",
      "\u001b[0;31mNameError\u001b[0m: name 'train_output_directory' is not defined"
     ]
    }
   ],
   "source": [
    "# After training, use the following to test/evaluate the model\n",
    "command = f\"python tools/test.py '/Users/jennywei/Documents Mac/BME1570/2s-agcn_8xb16-joint-motion-u100-80e_uiprmd-xsub-keypoint-3d.py' \" \\\n",
    "          f\"--checkpoint {train_output_directory}/latest.pth \" \\\n",
    "          f\"--eval mAP\"  # You can add other metrics like 'accuracy', 'top_k_accuracy', etc.\n"
   ]
  },
  {
   "cell_type": "code",
   "execution_count": 14,
   "id": "7fb45a07",
   "metadata": {},
   "outputs": [
    {
     "name": "stdout",
     "output_type": "stream",
     "text": [
      "Training fold 1 with loso_split_s05.pkl as the validation set\n"
     ]
    },
    {
     "ename": "NameError",
     "evalue": "name 'config_path' is not defined",
     "output_type": "error",
     "traceback": [
      "\u001b[0;31m---------------------------------------------------------------------------\u001b[0m",
      "\u001b[0;31mNameError\u001b[0m                                 Traceback (most recent call last)",
      "Input \u001b[0;32mIn [14]\u001b[0m, in \u001b[0;36m<cell line: 13>\u001b[0;34m()\u001b[0m\n\u001b[1;32m     17\u001b[0m train_data, val_data \u001b[38;5;241m=\u001b[39m get_train_val_split(test_subject, pickle_dir)\n\u001b[1;32m     19\u001b[0m \u001b[38;5;66;03m# Command to train the model, passing the dataset paths dynamically\u001b[39;00m\n\u001b[0;32m---> 20\u001b[0m command \u001b[38;5;241m=\u001b[39m \u001b[38;5;124mf\u001b[39m\u001b[38;5;124m\"\u001b[39m\u001b[38;5;124mpython tools/train.py \u001b[39m\u001b[38;5;132;01m{\u001b[39;00mconfig_path\u001b[38;5;132;01m}\u001b[39;00m\u001b[38;5;124m \u001b[39m\u001b[38;5;124m\"\u001b[39m \\\n\u001b[1;32m     21\u001b[0m           \u001b[38;5;124mf\u001b[39m\u001b[38;5;124m\"\u001b[39m\u001b[38;5;124m--cfg-options train_dataloader.dataset.ann_file=\u001b[39m\u001b[38;5;132;01m{\u001b[39;00mtrain_data\u001b[38;5;132;01m}\u001b[39;00m\u001b[38;5;124m \u001b[39m\u001b[38;5;124m\"\u001b[39m \\\n\u001b[1;32m     22\u001b[0m           \u001b[38;5;124mf\u001b[39m\u001b[38;5;124m\"\u001b[39m\u001b[38;5;124mval_dataloader.dataset.ann_file=\u001b[39m\u001b[38;5;132;01m{\u001b[39;00mval_data\u001b[38;5;132;01m}\u001b[39;00m\u001b[38;5;124m\"\u001b[39m\n\u001b[1;32m     24\u001b[0m \u001b[38;5;66;03m# Print the command for debugging\u001b[39;00m\n\u001b[1;32m     25\u001b[0m \u001b[38;5;28mprint\u001b[39m(command)\n",
      "\u001b[0;31mNameError\u001b[0m: name 'config_path' is not defined"
     ]
    }
   ],
   "source": [
    "import os\n",
    "import random\n",
    "import subprocess\n",
    "\n",
    "import 2s-agcn_8xb16-joint-u100-80e_ntu60-xsub-keypoint-3d\n",
    "train_pipeline = 2s-agcn_8xb16-joint-u100-80e_ntu60-xsub-keypoint-3d.train_pipeline\n",
    "val_pipeline = 2s-agcn_8xb16-joint-u100-80e_ntu60-xsub-keypoint-3d.val_pipeline\n",
    "\n",
    "# Path to your pickle files\n",
    "pickle_dir = '/Users/jennywei/Documents Mac/BME1570/Pickl'\n",
    "pickle_files = [f for f in os.listdir(pickle_dir) if f.endswith('.pkl')]\n",
    "\n",
    "# Shuffle the list of pickle files to ensure randomness\n",
    "random.shuffle(pickle_files)\n",
    "\n",
    "# Function to get train and val splits\n",
    "def get_train_val_split(test_subject, pickle_dir):\n",
    "    all_subjects = [f for f in os.listdir(pickle_dir) if f.endswith('.pkl')]\n",
    "    train_data = [os.path.join(pickle_dir, subject) for subject in all_subjects if subject != test_subject]\n",
    "    val_data = os.path.join(pickle_dir, test_subject)\n",
    "    return train_data, val_data\n",
    "\n",
    "# Start LOO Cross Validation loop\n",
    "for fold, test_subject in enumerate(pickle_files):\n",
    "    print(f\"Training fold {fold + 1} with {test_subject} as the validation set\")\n",
    "\n",
    "    # Get the current train and validation data\n",
    "    train_data, val_data = get_train_val_split(test_subject, pickle_dir)\n",
    "\n",
    "    # Update the dataloaders in the config dynamically for each fold\n",
    "    train_dataloader = dict(\n",
    "        batch_size=16,\n",
    "        num_workers=2,\n",
    "        persistent_workers=True,\n",
    "        sampler=dict(type='DefaultSampler', shuffle=True),\n",
    "        dataset=dict(\n",
    "            type='RepeatDataset',\n",
    "            times=5,\n",
    "            dataset=dict(\n",
    "                type='PoseDataset',\n",
    "                ann_file=train_data,  # Use the current training data\n",
    "                pipeline=train_pipeline,\n",
    "                split=None,\n",
    "            )\n",
    "        )\n",
    "    )\n",
    "\n",
    "    val_dataloader = dict(\n",
    "        batch_size=16,\n",
    "        num_workers=2,\n",
    "        persistent_workers=True,\n",
    "        sampler=dict(type='DefaultSampler', shuffle=False),\n",
    "        dataset=dict(\n",
    "            type='PoseDataset',\n",
    "            ann_file=val_data,  # Use the current validation data\n",
    "            pipeline=val_pipeline,\n",
    "            split=None,\n",
    "            test_mode=True\n",
    "        )\n",
    "    )\n",
    "\n",
    "    # Save or modify the config dynamically to include the updated dataloaders\n",
    "    # Example: Save the modified config file for this fold (optional)\n",
    "    config_file = f'config_fold_{fold + 1}.py'\n",
    "    with open(config_file, 'w') as f:\n",
    "        f.write(str(config))  # Save config content or edit it as needed\n",
    "\n",
    "    # Train the model for the current fold using subprocess\n",
    "    command = f\"python tools/train.py '/Users/jennywei/Documents Mac/BME1570/2s-agcn_8xb16-joint-motion-u100-80e_uiprmd-xsub-keypoint-3d.py'\"\n",
    "    subprocess.run(command, shell=True)  # Run the training command for this fold\n"
   ]
  },
  {
   "cell_type": "code",
   "execution_count": null,
   "id": "c02edc59",
   "metadata": {},
   "outputs": [],
   "source": []
  }
 ],
 "metadata": {
  "kernelspec": {
   "display_name": "openmmlab",
   "language": "python",
   "name": "python3"
  },
  "language_info": {
   "codemirror_mode": {
    "name": "ipython",
    "version": 3
   },
   "file_extension": ".py",
   "mimetype": "text/x-python",
   "name": "python",
   "nbconvert_exporter": "python",
   "pygments_lexer": "ipython3",
   "version": "3.8.20"
  }
 },
 "nbformat": 4,
 "nbformat_minor": 5
}
